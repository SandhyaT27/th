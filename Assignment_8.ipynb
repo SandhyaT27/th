{
 "cells": [
  {
   "cell_type": "markdown",
   "metadata": {},
   "source": [
    "# Q1. What are the two latest user-defined exception constraints in Python 3.X?\n",
    "raise and assert are the two latest user defined exception constraints in python3.x\n",
    "\n",
    "\n",
    "\n",
    "# Q2. How are class-based exceptions that have been raised matched to handlers?\n",
    "In Python user can define custom exceptions by creating new class.This exception class has to be derived either directly or indirectly from built in exception class.This new exception classlike other exceptions can be raised using raise statement with an optional error message.\n",
    "\n",
    "\n",
    "\n",
    "# Q3. Describe two methods for attaching context information to exception artefacts.\n",
    "The process() method of Logger adapteris where the contextual information is added to the logging output.It passes the message and keyword arguments of the logging call and it passes back modified versions of these to use in the call to the underlying logger.\n",
    "Other method that can be used is exception();Logs a message with level ERROR on this logger.The arguments are interpreted as for debug().Exception info is added to the logging message.\n",
    "\n",
    "\n",
    "\n",
    "# Q4. Describe two methods for specifying the text of an exception object's error message.\n",
    "raise and assert are the twp methods for specifying the text of an exception object's error message.raise statement is used to trigger explicit exception,if certain condition is not as per requirement of programmer.it helps in triggering exception as per need of programmer and logic;\n",
    "There are few assertions that programmer always wants to be True to avoid code failure.This typpe of requirement is fulfilled by assert statement;This statement takes a Boolean condition output of which if True further program executes,if the output of assert statement is False it raises an Assertion Error;\n",
    "\n",
    "\n",
    "# Q5. Why do you no longer use string-based exceptions?\n",
    "String based exceptions doesn't inherit from exceptions,so plain exceptions catch all exceptions and not only system."
   ]
  }
 ],
 "metadata": {
  "kernelspec": {
   "display_name": "Python 3",
   "language": "python",
   "name": "python3"
  },
  "language_info": {
   "codemirror_mode": {
    "name": "ipython",
    "version": 3
   },
   "file_extension": ".py",
   "mimetype": "text/x-python",
   "name": "python",
   "nbconvert_exporter": "python",
   "pygments_lexer": "ipython3",
   "version": "3.8.3"
  }
 },
 "nbformat": 4,
 "nbformat_minor": 4
}

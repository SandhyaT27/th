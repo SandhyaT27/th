{
 "cells": [
  {
   "cell_type": "markdown",
   "metadata": {},
   "source": [
    "1. What is the concept of an abstract superclass?\n",
    "A class is called an Abstract class if it contains one or more abstract methods. An abstract method is a method that is declared, but contains no implementation. Abstract classes may not be instantiated, and its abstract methods must be implemented by its subclasses.\n",
    "\n",
    "2. What happens when a class statement's top level contains a basic assignment statement?\n",
    "When a class statement top level contains a basic assignment statement,it usually treated as class attribute or class level variable.whereas assignment statements inside methods are treated as instance attributes or local attributes.\n",
    "When an instance of a class is created by a single copy of class attributes is maintained and shared to all instances of classeswhereas each instance object maintains its own copy of instance variables.\n",
    "\n",
    "3. Why does a class need to manually call a superclass's __init__ method?\n",
    "If child class has a __init__ method then it will not inherit the __init__ method of the parent class.in other words the __init__ method of child class overrides the __init__ method of the parent class.So we have to manually call the a parent's super class's __init__ using super() method.\n",
    "\n",
    "4. How can you augment, instead of completely replacing, an inherited method?\n",
    "super() method can be augmented instead of completely replacing an inherited method.\n",
    "\n",
    "5. How is the local scope of a class different from that of a function?\n",
    "A variable which is defined inside a function is local to that function. It is accessible from the point at which it is defined until the end of the function and exists for as long as the function is existing.\n",
    "similarly variable inside of a class also has a local variable scope.Variables which are defined inside the class body are called as class level variables They can be referenced by their bare names within the same scope.\n"
   ]
  }
 ],
 "metadata": {
  "kernelspec": {
   "display_name": "Python 3",
   "language": "python",
   "name": "python3"
  },
  "language_info": {
   "codemirror_mode": {
    "name": "ipython",
    "version": 3
   },
   "file_extension": ".py",
   "mimetype": "text/x-python",
   "name": "python",
   "nbconvert_exporter": "python",
   "pygments_lexer": "ipython3",
   "version": "3.8.3"
  }
 },
 "nbformat": 4,
 "nbformat_minor": 4
}

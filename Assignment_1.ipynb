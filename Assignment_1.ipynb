{
 "cells": [
  {
   "cell_type": "markdown",
   "metadata": {},
   "source": [
    "Q1 . What is the purpose of Python's OOP?\n",
    "In Python, object-oriented Programming (OOPs) is a programming paradigm that uses objects and classes in programming. It aims to implement real-world entities like inheritance, polymorphisms, encapsulation, etc. in the programming.\n",
    "\n",
    "Q2. Where does an inheritance search look for an attribute?\n",
    "Python searches for an attribute in an upward tree of updates.It first searches for the attribute in its instance and then looks in the class it is generated from all super classes listed in its class header.\n",
    "\n",
    "\n",
    "\n",
    "Q3. How do you distinguish between a class object and an instance object?\n",
    "1)class is a template for creating objects whereas object is an instance of class;\n",
    "2)separate memory is allocated for each object whenever an object is created\n",
    "3)A class is created once.Many objects are created using class.\n",
    "4)As classes have no allocated memory,they can't be mnipulated but objects can be manipulated\n",
    "\n",
    "\n",
    "\n",
    "Q4. What makes the first argument in a class’s method function special?\n",
    "Python classes have 3 classes:\n",
    "1)Instance methods\n",
    "2)class methods\n",
    "3)Static methods\n",
    "\n",
    "\n",
    "\n",
    "Q5. What is the purpose of the __init__ method?\n",
    "It is a reserved method in Python classes.It serves the role of a constructor in object oriented technology.This method is called when an object is createdfrom a class and it allows the class to initialize the attributes of the class\n",
    "\n",
    "\n",
    "\n",
    "Q6. What is the process for creating a class instance?\n",
    "To create a class instance we need to call the class by its name and pass the arguments to the class which the init method accepts.\n",
    "\n",
    "\n",
    "Q7. What is the process for creating a class?\n",
    "Class keyword is used to create a class in python.Syntax: class <class_name>:\n",
    "\n",
    "\n",
    "Q8. How would you define the superclasses of a class?\n",
    "Super class or parent class is given as a argument to the child class.\n",
    "Ex: class Employee(person):\n",
    "Here child class employee inherits attributes and methods from Super class/Parent person\n"
   ]
  }
 ],
 "metadata": {
  "kernelspec": {
   "display_name": "Python 3",
   "language": "python",
   "name": "python3"
  },
  "language_info": {
   "codemirror_mode": {
    "name": "ipython",
    "version": 3
   },
   "file_extension": ".py",
   "mimetype": "text/x-python",
   "name": "python",
   "nbconvert_exporter": "python",
   "pygments_lexer": "ipython3",
   "version": "3.8.3"
  }
 },
 "nbformat": 4,
 "nbformat_minor": 4
}

{
 "cells": [
  {
   "cell_type": "code",
   "execution_count": null,
   "metadata": {},
   "outputs": [],
   "source": [
    "Q1. Describe three applications for exception processing.\n",
    "Exception Processing is important to find exceptions that causes the runtime error.As run time errors halts the program \n",
    "execution when exception occurs;\n",
    "Exception processing is used in various applications of which few examples are:\n",
    "1)checking appropriate use of input in an application;\n",
    "2)Checking for arithmetic exceptions in mathematical executions\n",
    "3)Checking file I/O exceptions during file handling;\n",
    "\n",
    "\n",
    "\n",
    "Q2. What happens if you don't do something extra to treat an exception?\n",
    "If exceptions are not handled flow of program will be broken during the run time which might lead to abnormal termination of \n",
    "the program;In short inability of program to handle exceptions will result in crashing of program.\n",
    "\n",
    "\n",
    "\n",
    "\n",
    "Q3. What are your options for recovering from an exception in your script?\n",
    "Python provides try and except statements for recovering from an exceptionin your script\n",
    "\n",
    "\n",
    "Q4. Describe two methods for triggering exceptions in your script.\n",
    "raise and asssert are the two methods for triggering the exceptions in the script.\n",
    "\n",
    "\n",
    "\n",
    "Q5. Identify two methods for specifying actions to be executed at termination time, regardless of whether or not an exception \n",
    "exists.\n",
    "else and finally blocks  for specifying the actions to be executed at termnation time regardless of whether or not an exception\n",
    "exists"
   ]
  }
 ],
 "metadata": {
  "kernelspec": {
   "display_name": "Python 3",
   "language": "python",
   "name": "python3"
  },
  "language_info": {
   "codemirror_mode": {
    "name": "ipython",
    "version": 3
   },
   "file_extension": ".py",
   "mimetype": "text/x-python",
   "name": "python",
   "nbconvert_exporter": "python",
   "pygments_lexer": "ipython3",
   "version": "3.8.3"
  }
 },
 "nbformat": 4,
 "nbformat_minor": 4
}

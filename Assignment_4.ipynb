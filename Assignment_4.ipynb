{
 "cells": [
  {
   "cell_type": "markdown",
   "metadata": {},
   "source": [
    "Q1. Which two operator overloading methods can you use in your classes to support iteration?\n",
    "__iter__ and __next__ are the operator overloading methods in python that support iteration and are collectively called iterator \n",
    "protocol.\n",
    "__iter__ returns the iterator object and is called at the start of loop in our respective class;\n",
    "__next__ is called at each loop increment it returns the incremented value.\n",
    "\n",
    "Q2. In what contexts do the two operator overloading methods manage printing?\n",
    "__str__ and __repr__  are two operator overloading methods that manage printing.\n",
    "\n",
    "\n",
    "Q3. In a class, how do you intercept slice operations?\n",
    "In a class use of slice() operations in __getitem__ method is used for intercept of slice operation.This slice method is provided with start integer number,stop integer number and step integer number.\n",
    "\n",
    "\n",
    "\n",
    "Q4. In a class, how do you capture in-place addition?\n",
    "\n",
    "a+b is normal addition whereas a+=b is inplace addition operation.In this inplace addiion a class __iadd__ method is used for this inplace operation.\n",
    "\n",
    "Q5. When is it appropriate to use operator overloading?\n",
    "operator overloading is used when we want to use an operator other than its normal operation to have different meaning according to the context required in user defined function.\n"
   ]
  }
 ],
 "metadata": {
  "kernelspec": {
   "display_name": "Python 3",
   "language": "python",
   "name": "python3"
  },
  "language_info": {
   "codemirror_mode": {
    "name": "ipython",
    "version": 3
   },
   "file_extension": ".py",
   "mimetype": "text/x-python",
   "name": "python",
   "nbconvert_exporter": "python",
   "pygments_lexer": "ipython3",
   "version": "3.8.3"
  }
 },
 "nbformat": 4,
 "nbformat_minor": 4
}

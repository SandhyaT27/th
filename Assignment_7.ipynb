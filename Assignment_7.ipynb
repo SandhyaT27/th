{
 "cells": [
  {
   "cell_type": "markdown",
   "metadata": {},
   "source": [
    "# Q1. What is the purpose of the try statement?\n",
    "try statement is used for exception handling in python.It consists of a block of risky statements which might cause an exceptionduring run time;If code within try block raises an exception,then the exception will be reverted to the corresponding except block if multiple except blocks are present else it will be reverted to the default except block.In short try and except in union avoid programs from crashing during run time due to exception.\n",
    "\n",
    "\n",
    "\n",
    "# Q2. What are the two most popular try statement variations?\n",
    "The two most popular try statement variations are:\n",
    "1)try except\n",
    "2)try except,finally\n",
    "\n",
    "\n",
    "\n",
    "# Q3. What is the purpose of the raise statement?\n",
    "raise statement is used to trigger an exception explicitly if a certain condition is not as per requirementof programmer;raise statement helps in triggeringexception as per programming logic;\n",
    "\n",
    "\n",
    "\n",
    "# Q4. What does the assert statement do, and what other statement is it like?\n",
    "There are few assertions that programmer wants to be true to avoid code failure.This type of requirement is fulfilled by assert statement.This statement takes a boolean condition output of which is True,further program executes.If output of assert statement is False it raises an Assertion Error.\n",
    "\n",
    "\n",
    "\n",
    "# Q5. What is the purpose of the with/as argument, and what other statement is it like?\n",
    "With/as statement simplifies use of file handling in Python.When we use a with statement for file reading,there is no need for programmer to explicitly take care of activities like resource deallocation and file closing by use of file.close() method.With statement itself ensures proper acquisition and release of resources.This avoids triggering of exceptions if file closing is unknowingly forgotten in the code execution.\n"
   ]
  }
 ],
 "metadata": {
  "kernelspec": {
   "display_name": "Python 3",
   "language": "python",
   "name": "python3"
  },
  "language_info": {
   "codemirror_mode": {
    "name": "ipython",
    "version": 3
   },
   "file_extension": ".py",
   "mimetype": "text/x-python",
   "name": "python",
   "nbconvert_exporter": "python",
   "pygments_lexer": "ipython3",
   "version": "3.8.3"
  }
 },
 "nbformat": 4,
 "nbformat_minor": 4
}

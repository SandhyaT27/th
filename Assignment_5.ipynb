{
 "cells": [
  {
   "cell_type": "markdown",
   "metadata": {},
   "source": [
    "Q1. What is the meaning of multiple inheritance?\n",
    "Inheritance is nothing but reusing the code of parent class by the child class.similarly when a child class inherits its \n",
    "properties from multiple parent classes This scenario is called as Multiple Inheritance.\n",
    "\n",
    "\n",
    "Q2. What is the concept of delegation?\n",
    "Delegation provides a proxy object for any class that you want on top of the mainclass its like a wrapper to your class so that you can access limited resources of the main class;\n",
    "Simply delegation means that you can include a instance of another class as an instance variable and forward messages to the instance .\n",
    "\n",
    "\n",
    "Q3. What is the concept of composition?\n",
    "In the concept of Composition,,a class refers to one or more other classes by using instances of those classes as a instance variable;irrespective of inheritance in this approach all the parent class members are not inheritedinto child class but only required methods from a class are used by using class instances.\n",
    "\n",
    "\n",
    "Q4. What are bound methods and how do we use them?\n",
    "If a function is an attribute of class and it is accessed via the instances they are called as bound methods.A bound method is one that has self as its first argumentSince these are independenton the instance of classes these are also known as instance methods.\n",
    "\n",
    "\n",
    "\n",
    "Q5. What is the purpose of pseudoprivate attributes?\n",
    "Pseudoprivate attributes are also useful in larger frameworks or tools,both to avoid introducing new method names that might accidentally hide definitions else where in the class tree and to reduce the chance of internal methods being replaced by names defined lower in the tree.If a method is intended for use only within a class that may be mixed into another classes.\n",
    "Pseudo private names also prevent subclasses from accidentally redefining the internal method's names.\n"
   ]
  }
 ],
 "metadata": {
  "kernelspec": {
   "display_name": "Python 3",
   "language": "python",
   "name": "python3"
  },
  "language_info": {
   "codemirror_mode": {
    "name": "ipython",
    "version": 3
   },
   "file_extension": ".py",
   "mimetype": "text/x-python",
   "name": "python",
   "nbconvert_exporter": "python",
   "pygments_lexer": "ipython3",
   "version": "3.8.3"
  }
 },
 "nbformat": 4,
 "nbformat_minor": 4
}
